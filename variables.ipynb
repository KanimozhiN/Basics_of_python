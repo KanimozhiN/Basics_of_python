{
 "cells": [
  {
   "cell_type": "markdown",
   "id": "a32e724f",
   "metadata": {},
   "source": [
    "# VARIABLE"
   ]
  },
  {
   "cell_type": "markdown",
   "id": "8b8e26ae",
   "metadata": {},
   "source": [
    "# variables are reserved memory that store data"
   ]
  },
  {
   "cell_type": "code",
   "execution_count": 1,
   "id": "7f9883ca",
   "metadata": {},
   "outputs": [
    {
     "ename": "SyntaxError",
     "evalue": "invalid syntax (<ipython-input-1-d3e7af0d94af>, line 1)",
     "output_type": "error",
     "traceback": [
      "\u001b[1;36m  File \u001b[1;32m\"<ipython-input-1-d3e7af0d94af>\"\u001b[1;36m, line \u001b[1;32m1\u001b[0m\n\u001b[1;33m    @sample_list=[1,2,3,4]\u001b[0m\n\u001b[1;37m                ^\u001b[0m\n\u001b[1;31mSyntaxError\u001b[0m\u001b[1;31m:\u001b[0m invalid syntax\n"
     ]
    }
   ],
   "source": [
    " @sample_list=[1,2,3,4]\n",
    "    # variable will not start with a special character"
   ]
  },
  {
   "cell_type": "code",
   "execution_count": 11,
   "id": "3ae15ef2",
   "metadata": {},
   "outputs": [],
   "source": [
    "_sample_list=[1,2,3,4]"
   ]
  },
  {
   "cell_type": "markdown",
   "id": "79daf7e1",
   "metadata": {},
   "source": [
    "### variable name should not have special character other than underscore"
   ]
  },
  {
   "cell_type": "code",
   "execution_count": 2,
   "id": "29115590",
   "metadata": {},
   "outputs": [
    {
     "ename": "SyntaxError",
     "evalue": "cannot assign to operator (<ipython-input-2-5d7881bc8b6c>, line 1)",
     "output_type": "error",
     "traceback": [
      "\u001b[1;36m  File \u001b[1;32m\"<ipython-input-2-5d7881bc8b6c>\"\u001b[1;36m, line \u001b[1;32m1\u001b[0m\n\u001b[1;33m    s@mple_list=[1,2,3,4]\u001b[0m\n\u001b[1;37m    ^\u001b[0m\n\u001b[1;31mSyntaxError\u001b[0m\u001b[1;31m:\u001b[0m cannot assign to operator\n"
     ]
    }
   ],
   "source": [
    " s@mple_list=[1,2,3,4]\n",
    "    #either it should not contain a special character"
   ]
  },
  {
   "cell_type": "code",
   "execution_count": 4,
   "id": "dcd28fd0",
   "metadata": {},
   "outputs": [],
   "source": [
    "sample_list=[1,2,3,4]"
   ]
  },
  {
   "cell_type": "code",
   "execution_count": 6,
   "id": "bda1c22a",
   "metadata": {},
   "outputs": [
    {
     "ename": "SyntaxError",
     "evalue": "invalid syntax (<ipython-input-6-7b0dc8c117ce>, line 1)",
     "output_type": "error",
     "traceback": [
      "\u001b[1;36m  File \u001b[1;32m\"<ipython-input-6-7b0dc8c117ce>\"\u001b[1;36m, line \u001b[1;32m1\u001b[0m\n\u001b[1;33m    4sample_list=[1,2,3,4]\u001b[0m\n\u001b[1;37m     ^\u001b[0m\n\u001b[1;31mSyntaxError\u001b[0m\u001b[1;31m:\u001b[0m invalid syntax\n"
     ]
    }
   ],
   "source": [
    "4sample_list=[1,2,3,4]\n",
    "# variable should not start with a number"
   ]
  },
  {
   "cell_type": "markdown",
   "id": "00d18ec7",
   "metadata": {},
   "source": [
    "### (name of the variable should not start with a number)"
   ]
  },
  {
   "cell_type": "code",
   "execution_count": 8,
   "id": "2cb732f2",
   "metadata": {},
   "outputs": [],
   "source": [
    "s4ample_list=[1,2,3,4]"
   ]
  },
  {
   "cell_type": "code",
   "execution_count": 13,
   "id": "1ea281bf",
   "metadata": {},
   "outputs": [],
   "source": [
    "Sample_list=[1,2,3,4]"
   ]
  },
  {
   "cell_type": "markdown",
   "id": "b7abaaa5",
   "metadata": {},
   "source": [
    "### variable name should start with alphabet,underscore,numbers somewhere in the middle"
   ]
  },
  {
   "cell_type": "code",
   "execution_count": 12,
   "id": "3338b99a",
   "metadata": {},
   "outputs": [
    {
     "ename": "SyntaxError",
     "evalue": "cannot assign to operator (<ipython-input-12-ad5b460e4f0d>, line 1)",
     "output_type": "error",
     "traceback": [
      "\u001b[1;36m  File \u001b[1;32m\"<ipython-input-12-ad5b460e4f0d>\"\u001b[1;36m, line \u001b[1;32m1\u001b[0m\n\u001b[1;33m    sample-list=[1,2,3,4]\u001b[0m\n\u001b[1;37m    ^\u001b[0m\n\u001b[1;31mSyntaxError\u001b[0m\u001b[1;31m:\u001b[0m cannot assign to operator\n"
     ]
    }
   ],
   "source": [
    "sample-list=[1,2,3,4]"
   ]
  },
  {
   "cell_type": "markdown",
   "id": "376f1d12",
   "metadata": {},
   "source": [
    "### variablename cannot have a operator"
   ]
  },
  {
   "cell_type": "markdown",
   "id": "50bc9078",
   "metadata": {},
   "source": [
    "### Reassigning variables"
   ]
  },
  {
   "cell_type": "code",
   "execution_count": 5,
   "id": "742b7bdb",
   "metadata": {},
   "outputs": [
    {
     "data": {
      "text/plain": [
       "5"
      ]
     },
     "execution_count": 5,
     "metadata": {},
     "output_type": "execute_result"
    }
   ],
   "source": [
    "x=4+5\n",
    "x=2+3\n",
    "x"
   ]
  },
  {
   "cell_type": "code",
   "execution_count": 15,
   "id": "fd014864",
   "metadata": {},
   "outputs": [
    {
     "data": {
      "text/plain": [
       "5"
      ]
     },
     "execution_count": 15,
     "metadata": {},
     "output_type": "execute_result"
    }
   ],
   "source": [
    "x=4+5\n",
    "y=2+3\n",
    "x\n",
    "y"
   ]
  },
  {
   "cell_type": "markdown",
   "id": "60c474e8",
   "metadata": {},
   "source": [
    "### Multiple variable assignment "
   ]
  },
  {
   "cell_type": "code",
   "execution_count": 9,
   "id": "89585c6c",
   "metadata": {},
   "outputs": [
    {
     "data": {
      "text/plain": [
       "(6, 15)"
      ]
     },
     "execution_count": 9,
     "metadata": {},
     "output_type": "execute_result"
    }
   ],
   "source": [
    "x=4+2\n",
    "y=6+9\n",
    "x,y"
   ]
  },
  {
   "cell_type": "code",
   "execution_count": 17,
   "id": "450723cf",
   "metadata": {},
   "outputs": [
    {
     "data": {
      "text/plain": [
       "9"
      ]
     },
     "execution_count": 17,
     "metadata": {},
     "output_type": "execute_result"
    }
   ],
   "source": [
    "y=x\n",
    "y"
   ]
  },
  {
   "cell_type": "code",
   "execution_count": 18,
   "id": "4d57f27f",
   "metadata": {},
   "outputs": [
    {
     "data": {
      "text/plain": [
       "(19, 19, 19)"
      ]
     },
     "execution_count": 18,
     "metadata": {},
     "output_type": "execute_result"
    }
   ],
   "source": [
    "x=y=z=19\n",
    "x,y,z"
   ]
  },
  {
   "cell_type": "code",
   "execution_count": 19,
   "id": "4f06ce77",
   "metadata": {},
   "outputs": [
    {
     "data": {
      "text/plain": [
       "(10, 2, 3)"
      ]
     },
     "execution_count": 19,
     "metadata": {},
     "output_type": "execute_result"
    }
   ],
   "source": [
    "x,y,z=10,2,3\n",
    "x,y,z"
   ]
  },
  {
   "cell_type": "code",
   "execution_count": null,
   "id": "e8217e43",
   "metadata": {},
   "outputs": [],
   "source": []
  }
 ],
 "metadata": {
  "kernelspec": {
   "display_name": "Python 3",
   "language": "python",
   "name": "python3"
  },
  "language_info": {
   "codemirror_mode": {
    "name": "ipython",
    "version": 3
   },
   "file_extension": ".py",
   "mimetype": "text/x-python",
   "name": "python",
   "nbconvert_exporter": "python",
   "pygments_lexer": "ipython3",
   "version": "3.8.8"
  }
 },
 "nbformat": 4,
 "nbformat_minor": 5
}
