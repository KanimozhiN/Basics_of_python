{
 "cells": [
  {
   "cell_type": "markdown",
   "id": "acdb1af7",
   "metadata": {},
   "source": [
    "# LOOPS"
   ]
  },
  {
   "cell_type": "markdown",
   "id": "6d2b47ec",
   "metadata": {},
   "source": [
    "### While loop"
   ]
  },
  {
   "cell_type": "code",
   "execution_count": 4,
   "id": "d1795627",
   "metadata": {},
   "outputs": [
    {
     "name": "stdout",
     "output_type": "stream",
     "text": [
      "add: 120\n"
     ]
    }
   ],
   "source": [
    "n=15\n",
    "add=0\n",
    "i=1\n",
    "while(i<=n):\n",
    "    add=add+i\n",
    "    i=i+1\n",
    "print(\"add:\",add)"
   ]
  },
  {
   "cell_type": "markdown",
   "id": "ecf1a66a",
   "metadata": {},
   "source": [
    "### for loop"
   ]
  },
  {
   "cell_type": "code",
   "execution_count": 10,
   "id": "612132c7",
   "metadata": {},
   "outputs": [
    {
     "name": "stdout",
     "output_type": "stream",
     "text": [
      "add : 300\n"
     ]
    }
   ],
   "source": [
    "n=range(1,25)\n",
    "add=0\n",
    "for i in n:\n",
    "    add=add+i\n",
    "print(\"add :\",add)    "
   ]
  },
  {
   "cell_type": "markdown",
   "id": "64aef545",
   "metadata": {},
   "source": [
    "### break statement"
   ]
  },
  {
   "cell_type": "code",
   "execution_count": 6,
   "id": "287f16f0",
   "metadata": {},
   "outputs": [
    {
     "name": "stdout",
     "output_type": "stream",
     "text": [
      "p\n",
      "y\n",
      "t\n",
      "h\n",
      "o\n",
      "n\n",
      "p\n",
      "r\n",
      "o\n",
      "g\n",
      "r\n",
      "the loop statement stopped executing\n"
     ]
    }
   ],
   "source": [
    "word=\"pythonprogramming\"\n",
    "for letter in word:\n",
    "    if letter == 'a':\n",
    "        break\n",
    "    print(letter)\n",
    "print(\"the loop statement stopped executing\")        \n",
    "    "
   ]
  },
  {
   "cell_type": "markdown",
   "id": "41f2626c",
   "metadata": {},
   "source": [
    "### continue statement"
   ]
  },
  {
   "cell_type": "code",
   "execution_count": 4,
   "id": "5c84bfcf",
   "metadata": {},
   "outputs": [
    {
     "name": "stdout",
     "output_type": "stream",
     "text": [
      "p\n",
      "y\n",
      "t\n",
      "h\n",
      "o\n",
      "n\n",
      "p\n",
      "r\n",
      "o\n",
      "g\n",
      "r\n",
      "m\n",
      "m\n",
      "i\n",
      "n\n",
      "g\n"
     ]
    }
   ],
   "source": [
    "for letter in word:\n",
    "    if letter == 'a':\n",
    "        continue\n",
    "    print(letter)"
   ]
  },
  {
   "cell_type": "markdown",
   "id": "8a8f8509",
   "metadata": {},
   "source": [
    "### nested  for loop"
   ]
  },
  {
   "cell_type": "code",
   "execution_count": 11,
   "id": "63a9523c",
   "metadata": {},
   "outputs": [
    {
     "name": "stdout",
     "output_type": "stream",
     "text": [
      "enter the num6\n",
      "0 \n",
      "\n",
      "0 1 \n",
      "\n",
      "0 1 2 \n",
      "\n",
      "0 1 2 3 \n",
      "\n",
      "0 1 2 3 4 \n",
      "\n",
      "0 1 2 3 4 5 \n",
      "\n"
     ]
    }
   ],
   "source": [
    "nums=int(input(\"enter the num\"))\n",
    "for num in range (1,nums+1):\n",
    "    for num in range(num):\n",
    "        print(num,end=\" \")\n",
    "    print(\"\\n\")   "
   ]
  },
  {
   "cell_type": "code",
   "execution_count": null,
   "id": "26fe52f7",
   "metadata": {},
   "outputs": [],
   "source": []
  },
  {
   "cell_type": "code",
   "execution_count": null,
   "id": "5678514d",
   "metadata": {},
   "outputs": [],
   "source": []
  }
 ],
 "metadata": {
  "kernelspec": {
   "display_name": "Python 3",
   "language": "python",
   "name": "python3"
  },
  "language_info": {
   "codemirror_mode": {
    "name": "ipython",
    "version": 3
   },
   "file_extension": ".py",
   "mimetype": "text/x-python",
   "name": "python",
   "nbconvert_exporter": "python",
   "pygments_lexer": "ipython3",
   "version": "3.8.8"
  }
 },
 "nbformat": 4,
 "nbformat_minor": 5
}
