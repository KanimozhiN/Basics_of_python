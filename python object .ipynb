{
 "cells": [
  {
   "cell_type": "markdown",
   "id": "d4108287",
   "metadata": {},
   "source": [
    "# objects -> string,list,tuple,dictionary"
   ]
  },
  {
   "cell_type": "markdown",
   "id": "073efa32",
   "metadata": {},
   "source": [
    "### indexing and slicing of string"
   ]
  },
  {
   "cell_type": "code",
   "execution_count": 3,
   "id": "9e201fbd",
   "metadata": {},
   "outputs": [
    {
     "data": {
      "text/plain": [
       "'i'"
      ]
     },
     "execution_count": 3,
     "metadata": {},
     "output_type": "execute_result"
    }
   ],
   "source": [
    "word = \"i made it\"\n",
    "word[0]"
   ]
  },
  {
   "cell_type": "code",
   "execution_count": 4,
   "id": "e53ae28d",
   "metadata": {},
   "outputs": [
    {
     "data": {
      "text/plain": [
       "'i made it'"
      ]
     },
     "execution_count": 4,
     "metadata": {},
     "output_type": "execute_result"
    }
   ],
   "source": [
    "word[0:9]"
   ]
  },
  {
   "cell_type": "code",
   "execution_count": 5,
   "id": "e5a59e5e",
   "metadata": {},
   "outputs": [
    {
     "data": {
      "text/plain": [
       "'made it'"
      ]
     },
     "execution_count": 5,
     "metadata": {},
     "output_type": "execute_result"
    }
   ],
   "source": [
    "word[2:9]"
   ]
  },
  {
   "cell_type": "markdown",
   "id": "7a30a89d",
   "metadata": {},
   "source": [
    "### reverse (negative indexing)"
   ]
  },
  {
   "cell_type": "code",
   "execution_count": 6,
   "id": "1ca0c88c",
   "metadata": {},
   "outputs": [
    {
     "data": {
      "text/plain": [
       "'ti edam i'"
      ]
     },
     "execution_count": 6,
     "metadata": {},
     "output_type": "execute_result"
    }
   ],
   "source": [
    "word[::-1]"
   ]
  },
  {
   "cell_type": "code",
   "execution_count": 7,
   "id": "23c71ed0",
   "metadata": {},
   "outputs": [
    {
     "data": {
      "text/plain": [
       "'i made it'"
      ]
     },
     "execution_count": 7,
     "metadata": {},
     "output_type": "execute_result"
    }
   ],
   "source": [
    "word[:len(word)]"
   ]
  },
  {
   "cell_type": "markdown",
   "id": "acd46017",
   "metadata": {},
   "source": [
    "### negative index"
   ]
  },
  {
   "cell_type": "code",
   "execution_count": 9,
   "id": "0cfd8715",
   "metadata": {},
   "outputs": [
    {
     "data": {
      "text/plain": [
       "' made i'"
      ]
     },
     "execution_count": 9,
     "metadata": {},
     "output_type": "execute_result"
    }
   ],
   "source": [
    "word[1:-1]"
   ]
  },
  {
   "cell_type": "code",
   "execution_count": 10,
   "id": "f65d391a",
   "metadata": {},
   "outputs": [
    {
     "data": {
      "text/plain": [
       "' '"
      ]
     },
     "execution_count": 10,
     "metadata": {},
     "output_type": "execute_result"
    }
   ],
   "source": [
    "word[::1][-3]"
   ]
  },
  {
   "cell_type": "markdown",
   "id": "b4c58b21",
   "metadata": {},
   "source": [
    "### replace a string"
   ]
  },
  {
   "cell_type": "code",
   "execution_count": 11,
   "id": "43e4a9df",
   "metadata": {},
   "outputs": [
    {
     "data": {
      "text/plain": [
       "'i made  a cake'"
      ]
     },
     "execution_count": 11,
     "metadata": {},
     "output_type": "execute_result"
    }
   ],
   "source": [
    "word.replace(\"it\",\" a cake\")"
   ]
  },
  {
   "cell_type": "markdown",
   "id": "3c9ed929",
   "metadata": {},
   "source": [
    "### convert into upper"
   ]
  },
  {
   "cell_type": "code",
   "execution_count": 13,
   "id": "d4923f81",
   "metadata": {},
   "outputs": [
    {
     "data": {
      "text/plain": [
       "'I MADE IT'"
      ]
     },
     "execution_count": 13,
     "metadata": {},
     "output_type": "execute_result"
    }
   ],
   "source": [
    "word.upper()"
   ]
  },
  {
   "cell_type": "markdown",
   "id": "a8a87160",
   "metadata": {},
   "source": [
    "### convert into lower"
   ]
  },
  {
   "cell_type": "code",
   "execution_count": 14,
   "id": "91477bf6",
   "metadata": {},
   "outputs": [
    {
     "data": {
      "text/plain": [
       "'i made it'"
      ]
     },
     "execution_count": 14,
     "metadata": {},
     "output_type": "execute_result"
    }
   ],
   "source": [
    "word.lower()"
   ]
  },
  {
   "cell_type": "markdown",
   "id": "9c327d54",
   "metadata": {},
   "source": [
    "###  first letter upper of each word"
   ]
  },
  {
   "cell_type": "code",
   "execution_count": 15,
   "id": "7eef2940",
   "metadata": {},
   "outputs": [
    {
     "data": {
      "text/plain": [
       "'I Made It'"
      ]
     },
     "execution_count": 15,
     "metadata": {},
     "output_type": "execute_result"
    }
   ],
   "source": [
    "word.title()"
   ]
  },
  {
   "cell_type": "markdown",
   "id": "6deb5f22",
   "metadata": {},
   "source": [
    "### concate each element with sep"
   ]
  },
  {
   "cell_type": "code",
   "execution_count": 16,
   "id": "57098308",
   "metadata": {},
   "outputs": [
    {
     "data": {
      "text/plain": [
       "'match-box'"
      ]
     },
     "execution_count": 16,
     "metadata": {},
     "output_type": "execute_result"
    }
   ],
   "source": [
    "word=\"match\",\"box\"\n",
    "sep=\"-\"\n",
    "sep.join(word)"
   ]
  },
  {
   "cell_type": "markdown",
   "id": "feaabdd1",
   "metadata": {},
   "source": [
    "### strip"
   ]
  },
  {
   "cell_type": "code",
   "execution_count": 17,
   "id": "b0fe7bb0",
   "metadata": {},
   "outputs": [
    {
     "data": {
      "text/plain": [
       "'i am leaving'"
      ]
     },
     "execution_count": 17,
     "metadata": {},
     "output_type": "execute_result"
    }
   ],
   "source": [
    "text=\"**i am leaving**\"\n",
    "text.strip(\"*\")"
   ]
  },
  {
   "cell_type": "code",
   "execution_count": 18,
   "id": "9c76657c",
   "metadata": {},
   "outputs": [
    {
     "data": {
      "text/plain": [
       "'i *am *leaving'"
      ]
     },
     "execution_count": 18,
     "metadata": {},
     "output_type": "execute_result"
    }
   ],
   "source": [
    "text=\"**i *am *leaving**\"\n",
    "text.strip(\"*\")"
   ]
  },
  {
   "cell_type": "code",
   "execution_count": 19,
   "id": "e67e11bc",
   "metadata": {},
   "outputs": [
    {
     "data": {
      "text/plain": [
       "'i am leaving'"
      ]
     },
     "execution_count": 19,
     "metadata": {},
     "output_type": "execute_result"
    }
   ],
   "source": [
    "text=\"**i am leaving\"\n",
    "text.strip(\"*\")"
   ]
  },
  {
   "cell_type": "code",
   "execution_count": null,
   "id": "cc334986",
   "metadata": {},
   "outputs": [],
   "source": []
  }
 ],
 "metadata": {
  "kernelspec": {
   "display_name": "Python 3",
   "language": "python",
   "name": "python3"
  },
  "language_info": {
   "codemirror_mode": {
    "name": "ipython",
    "version": 3
   },
   "file_extension": ".py",
   "mimetype": "text/x-python",
   "name": "python",
   "nbconvert_exporter": "python",
   "pygments_lexer": "ipython3",
   "version": "3.8.8"
  }
 },
 "nbformat": 4,
 "nbformat_minor": 5
}
