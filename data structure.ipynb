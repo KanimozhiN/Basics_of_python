{
 "cells": [
  {
   "cell_type": "markdown",
   "id": "d28a4e70",
   "metadata": {},
   "source": [
    "# list"
   ]
  },
  {
   "cell_type": "code",
   "execution_count": 2,
   "id": "9b9933b6",
   "metadata": {},
   "outputs": [
    {
     "name": "stdout",
     "output_type": "stream",
     "text": [
      "['IT', 'CSE', 'MECH']\n"
     ]
    },
    {
     "data": {
      "text/plain": [
       "list"
      ]
     },
     "execution_count": 2,
     "metadata": {},
     "output_type": "execute_result"
    }
   ],
   "source": [
    "dept=[\"IT\",\"CSE\",\"MECH\"]\n",
    "print(dept)\n",
    "type(dept)"
   ]
  },
  {
   "cell_type": "markdown",
   "id": "464aa1b1",
   "metadata": {},
   "source": [
    "### heterogeneous and indexing"
   ]
  },
  {
   "cell_type": "code",
   "execution_count": 5,
   "id": "348473d0",
   "metadata": {},
   "outputs": [
    {
     "data": {
      "text/plain": [
       "'IT'"
      ]
     },
     "execution_count": 5,
     "metadata": {},
     "output_type": "execute_result"
    }
   ],
   "source": [
    "dept=[\"IT\",\"CSE\",\"MECH\",\"IT\",\"ECE\",\"ECE\"]\n",
    "dept[3]"
   ]
  },
  {
   "cell_type": "markdown",
   "id": "b065ae1a",
   "metadata": {},
   "source": [
    "### concate and append"
   ]
  },
  {
   "cell_type": "code",
   "execution_count": 9,
   "id": "6da9a634",
   "metadata": {},
   "outputs": [
    {
     "data": {
      "text/plain": [
       "['IT', 'CSE', 'MECH', 'webinar', 'symposium']"
      ]
     },
     "execution_count": 9,
     "metadata": {},
     "output_type": "execute_result"
    }
   ],
   "source": [
    "dept=[\"IT\",\"CSE\",\"MECH\"]\n",
    "event=[\"webinar\",\"symposium\"]\n",
    "college=dept+event\n",
    "college"
   ]
  },
  {
   "cell_type": "code",
   "execution_count": 10,
   "id": "d8dd2922",
   "metadata": {},
   "outputs": [
    {
     "data": {
      "text/plain": [
       "['IT', 'CSE', 'MECH', 'ECE']"
      ]
     },
     "execution_count": 10,
     "metadata": {},
     "output_type": "execute_result"
    }
   ],
   "source": [
    "dept=[\"IT\",\"CSE\",\"MECH\"]\n",
    "dept.append(\"ECE\")\n",
    "dept"
   ]
  },
  {
   "cell_type": "markdown",
   "id": "e08ceff5",
   "metadata": {},
   "source": [
    "### sort"
   ]
  },
  {
   "cell_type": "code",
   "execution_count": 15,
   "id": "b3bdb023",
   "metadata": {},
   "outputs": [
    {
     "data": {
      "text/plain": [
       "['CSE', 'ECE', 'IT', 'MECH']"
      ]
     },
     "execution_count": 15,
     "metadata": {},
     "output_type": "execute_result"
    }
   ],
   "source": [
    "dept.sort()\n",
    "dept"
   ]
  },
  {
   "cell_type": "code",
   "execution_count": 17,
   "id": "dbcb395f",
   "metadata": {},
   "outputs": [
    {
     "ename": "TypeError",
     "evalue": "'<' not supported between instances of 'int' and 'str'",
     "output_type": "error",
     "traceback": [
      "\u001b[1;31m---------------------------------------------------------------------------\u001b[0m",
      "\u001b[1;31mTypeError\u001b[0m                                 Traceback (most recent call last)",
      "\u001b[1;32m<ipython-input-17-1fb34e45590d>\u001b[0m in \u001b[0;36m<module>\u001b[1;34m\u001b[0m\n\u001b[0;32m      1\u001b[0m \u001b[0mdept\u001b[0m\u001b[1;33m=\u001b[0m\u001b[1;33m[\u001b[0m\u001b[1;34m\"IT\"\u001b[0m\u001b[1;33m,\u001b[0m\u001b[1;34m\"CSE\"\u001b[0m\u001b[1;33m,\u001b[0m\u001b[1;34m\"MECH\"\u001b[0m\u001b[1;33m,\u001b[0m\u001b[1;36m25\u001b[0m\u001b[1;33m,\u001b[0m\u001b[1;36m46\u001b[0m\u001b[1;33m,\u001b[0m\u001b[1;34m\"AI&DS\"\u001b[0m\u001b[1;33m]\u001b[0m\u001b[1;33m\u001b[0m\u001b[1;33m\u001b[0m\u001b[0m\n\u001b[1;32m----> 2\u001b[1;33m \u001b[0mdept\u001b[0m\u001b[1;33m.\u001b[0m\u001b[0msort\u001b[0m\u001b[1;33m(\u001b[0m\u001b[1;33m)\u001b[0m\u001b[1;33m\u001b[0m\u001b[1;33m\u001b[0m\u001b[0m\n\u001b[0m\u001b[0;32m      3\u001b[0m \u001b[0mdept\u001b[0m\u001b[1;33m\u001b[0m\u001b[1;33m\u001b[0m\u001b[0m\n\u001b[0;32m      4\u001b[0m \u001b[1;31m# list of various  data type can't be sorted\u001b[0m\u001b[1;33m\u001b[0m\u001b[1;33m\u001b[0m\u001b[1;33m\u001b[0m\u001b[0m\n",
      "\u001b[1;31mTypeError\u001b[0m: '<' not supported between instances of 'int' and 'str'"
     ]
    }
   ],
   "source": [
    "dept=[\"IT\",\"CSE\",\"MECH\",25,46,\"AI&DS\"]\n",
    "dept.sort()\n",
    "dept\n",
    "# list of various  data type can't be sort"
   ]
  },
  {
   "cell_type": "markdown",
   "id": "32bd7f9e",
   "metadata": {},
   "source": [
    "### sorted"
   ]
  },
  {
   "cell_type": "code",
   "execution_count": 18,
   "id": "d29a47df",
   "metadata": {},
   "outputs": [
    {
     "data": {
      "text/plain": [
       "['CSE', 'IT', 'MECH']"
      ]
     },
     "execution_count": 18,
     "metadata": {},
     "output_type": "execute_result"
    }
   ],
   "source": [
    "dept=[\"IT\",\"CSE\",\"MECH\"]\n",
    "dept=sorted(dept)\n",
    "dept"
   ]
  },
  {
   "cell_type": "markdown",
   "id": "e4f1b5f8",
   "metadata": {},
   "source": [
    "### (the sort will modify the existing list but sorted will create a new list)"
   ]
  },
  {
   "cell_type": "markdown",
   "id": "e7bde8f9",
   "metadata": {},
   "source": [
    "## checking the presence of a element in a list"
   ]
  },
  {
   "cell_type": "code",
   "execution_count": 27,
   "id": "c818ae62",
   "metadata": {},
   "outputs": [
    {
     "name": "stdout",
     "output_type": "stream",
     "text": [
      "True\n"
     ]
    }
   ],
   "source": [
    "dept=[\"IT\",\"CSE\",\"MECH\"]\n",
    "print(\"CSE\" in dept)"
   ]
  },
  {
   "cell_type": "code",
   "execution_count": 28,
   "id": "672639a8",
   "metadata": {},
   "outputs": [
    {
     "name": "stdout",
     "output_type": "stream",
     "text": [
      "False\n"
     ]
    }
   ],
   "source": [
    "dept=[\"IT\",\"CSE\",\"MECH\"]\n",
    "print(\"MECH\" not in dept)"
   ]
  },
  {
   "cell_type": "markdown",
   "id": "504fed64",
   "metadata": {},
   "source": [
    "### iteration "
   ]
  },
  {
   "cell_type": "code",
   "execution_count": 30,
   "id": "4d2b8baa",
   "metadata": {},
   "outputs": [
    {
     "name": "stdout",
     "output_type": "stream",
     "text": [
      "IT\n",
      "CSE\n",
      "MECH\n"
     ]
    }
   ],
   "source": [
    "dept=[\"IT\",\"CSE\",\"MECH\"]\n",
    "for dept_name in dept:\n",
    "    print(dept_name)"
   ]
  },
  {
   "cell_type": "markdown",
   "id": "6d85a8b4",
   "metadata": {},
   "source": [
    "### length"
   ]
  },
  {
   "cell_type": "code",
   "execution_count": 31,
   "id": "9618fb77",
   "metadata": {},
   "outputs": [
    {
     "data": {
      "text/plain": [
       "3"
      ]
     },
     "execution_count": 31,
     "metadata": {},
     "output_type": "execute_result"
    }
   ],
   "source": [
    "dept=[\"IT\",\"CSE\",\"MECH\"]\n",
    "len(dept)"
   ]
  },
  {
   "cell_type": "code",
   "execution_count": 33,
   "id": "15273c87",
   "metadata": {},
   "outputs": [
    {
     "data": {
      "text/plain": [
       "32"
      ]
     },
     "execution_count": 33,
     "metadata": {},
     "output_type": "execute_result"
    }
   ],
   "source": [
    "min(price)"
   ]
  },
  {
   "cell_type": "markdown",
   "id": "d3b43d04",
   "metadata": {},
   "source": [
    "### max and min"
   ]
  },
  {
   "cell_type": "code",
   "execution_count": 39,
   "id": "e04511c6",
   "metadata": {},
   "outputs": [
    {
     "data": {
      "text/plain": [
       "354651"
      ]
     },
     "execution_count": 39,
     "metadata": {},
     "output_type": "execute_result"
    }
   ],
   "source": [
    "price=[52,354651,234]\n",
    "max(price)"
   ]
  },
  {
   "cell_type": "code",
   "execution_count": 40,
   "id": "30e098a2",
   "metadata": {},
   "outputs": [
    {
     "data": {
      "text/plain": [
       "52"
      ]
     },
     "execution_count": 40,
     "metadata": {},
     "output_type": "execute_result"
    }
   ],
   "source": [
    "min(price)"
   ]
  },
  {
   "cell_type": "code",
   "execution_count": 42,
   "id": "c862ff03",
   "metadata": {},
   "outputs": [
    {
     "ename": "TypeError",
     "evalue": "'>' not supported between instances of 'str' and 'int'",
     "output_type": "error",
     "traceback": [
      "\u001b[1;31m---------------------------------------------------------------------------\u001b[0m",
      "\u001b[1;31mTypeError\u001b[0m                                 Traceback (most recent call last)",
      "\u001b[1;32m<ipython-input-42-e1026aeb3a39>\u001b[0m in \u001b[0;36m<module>\u001b[1;34m\u001b[0m\n\u001b[0;32m      1\u001b[0m \u001b[0mcol\u001b[0m\u001b[1;33m=\u001b[0m\u001b[1;33m[\u001b[0m\u001b[1;36m5\u001b[0m\u001b[1;33m,\u001b[0m\u001b[1;36m35\u001b[0m\u001b[1;33m,\u001b[0m\u001b[1;34m'roshan'\u001b[0m\u001b[1;33m,\u001b[0m\u001b[1;36m35\u001b[0m\u001b[1;33m]\u001b[0m\u001b[1;33m\u001b[0m\u001b[1;33m\u001b[0m\u001b[0m\n\u001b[1;32m----> 2\u001b[1;33m \u001b[0mmax\u001b[0m\u001b[1;33m(\u001b[0m\u001b[0mcol\u001b[0m\u001b[1;33m)\u001b[0m\u001b[1;33m\u001b[0m\u001b[1;33m\u001b[0m\u001b[0m\n\u001b[0m\u001b[0;32m      3\u001b[0m \u001b[1;31m#  in list of various datatype, we cant find max or min\u001b[0m\u001b[1;33m\u001b[0m\u001b[1;33m\u001b[0m\u001b[1;33m\u001b[0m\u001b[0m\n",
      "\u001b[1;31mTypeError\u001b[0m: '>' not supported between instances of 'str' and 'int'"
     ]
    }
   ],
   "source": [
    "col=[5,35,'roshan',35]\n",
    "max(col)\n",
    "#  in list of various datatype, we cant find max or min "
   ]
  },
  {
   "cell_type": "markdown",
   "id": "b4a3cacf",
   "metadata": {},
   "source": [
    "### remove"
   ]
  },
  {
   "cell_type": "code",
   "execution_count": 45,
   "id": "3b462fea",
   "metadata": {},
   "outputs": [
    {
     "name": "stdout",
     "output_type": "stream",
     "text": [
      "['IT', 'CSE', 'MECH']\n"
     ]
    },
    {
     "data": {
      "text/plain": [
       "[]"
      ]
     },
     "execution_count": 45,
     "metadata": {},
     "output_type": "execute_result"
    }
   ],
   "source": [
    "dept=[\"IT\",\"CSE\",\"MECH\"]\n",
    "print(dept)\n",
    "dept.clear()\n",
    "dept"
   ]
  },
  {
   "cell_type": "markdown",
   "id": "51b6fe48",
   "metadata": {},
   "source": [
    "### copy"
   ]
  },
  {
   "cell_type": "code",
   "execution_count": 49,
   "id": "a87b5dab",
   "metadata": {},
   "outputs": [
    {
     "name": "stdout",
     "output_type": "stream",
     "text": [
      "['IT', 'CSE', 'MECH']\n",
      "['IT', 'CSE', 'MECH']\n"
     ]
    }
   ],
   "source": [
    "dept_clg1=[\"IT\",\"CSE\",\"MECH\"]\n",
    "dept_clg2=dept_clg1.copy()\n",
    "print(dept_clg1)\n",
    "print(dept_clg2)\n"
   ]
  },
  {
   "cell_type": "code",
   "execution_count": 53,
   "id": "eaded85c",
   "metadata": {},
   "outputs": [
    {
     "name": "stdout",
     "output_type": "stream",
     "text": [
      "['IT', 'CSE', 'MECH']\n",
      "['IT', 'CSE', 'MECH']\n",
      "False\n"
     ]
    }
   ],
   "source": [
    "dept_clg1=[\"IT\",\"CSE\",\"MECH\"]\n",
    "dept_clg2=dept_clg1.copy()\n",
    "print(dept_clg1)\n",
    "print(dept_clg2)\n",
    "print(dept_clg1 is dept_clg2)"
   ]
  },
  {
   "cell_type": "code",
   "execution_count": 54,
   "id": "3aa512ad",
   "metadata": {},
   "outputs": [
    {
     "name": "stdout",
     "output_type": "stream",
     "text": [
      "['IT', 'CSE', 'MECH']\n",
      "['IT', 'CSE', 'MECH']\n",
      "True\n"
     ]
    }
   ],
   "source": [
    "dept_clg1=[\"IT\",\"CSE\",\"MECH\"]\n",
    "dept_clg2=dept_clg1\n",
    "print(dept_clg1)\n",
    "print(dept_clg2)\n",
    "print(dept_clg1 is dept_clg2)"
   ]
  },
  {
   "cell_type": "markdown",
   "id": "efdb695e",
   "metadata": {},
   "source": [
    "### count"
   ]
  },
  {
   "cell_type": "code",
   "execution_count": 57,
   "id": "0a93ae4a",
   "metadata": {},
   "outputs": [
    {
     "data": {
      "text/plain": [
       "2"
      ]
     },
     "execution_count": 57,
     "metadata": {},
     "output_type": "execute_result"
    }
   ],
   "source": [
    "dept=[\"IT\",\"CSE\",\"MECH\",\"IT\",\"ECE\",\"ECE\"]\n",
    "dept.count(\"IT\")"
   ]
  },
  {
   "cell_type": "markdown",
   "id": "da0d1e2b",
   "metadata": {},
   "source": [
    "### extend"
   ]
  },
  {
   "cell_type": "code",
   "execution_count": 59,
   "id": "620d9cd6",
   "metadata": {},
   "outputs": [
    {
     "data": {
      "text/plain": [
       "['IT', 'CSE', 'MECH', 'IT', 'ECE', 'ECE', 'EEE', 'AI&DS']"
      ]
     },
     "execution_count": 59,
     "metadata": {},
     "output_type": "execute_result"
    }
   ],
   "source": [
    "dept=[\"IT\",\"CSE\",\"MECH\",\"IT\",\"ECE\",\"ECE\"]\n",
    "new_dept=[\"EEE\",\"AI&DS\"]\n",
    "dept.extend(new_dept)\n",
    "dept"
   ]
  },
  {
   "cell_type": "markdown",
   "id": "154f83fb",
   "metadata": {},
   "source": [
    "### return"
   ]
  },
  {
   "cell_type": "code",
   "execution_count": 63,
   "id": "1b648f14",
   "metadata": {},
   "outputs": [
    {
     "data": {
      "text/plain": [
       "2"
      ]
     },
     "execution_count": 63,
     "metadata": {},
     "output_type": "execute_result"
    }
   ],
   "source": [
    "dept=['IT', 'CSE', 'MECH', 'IT', 'ECE', 'ECE', 'EEE', 'AI&DS']\n",
    "dept.index(\"MECH\")"
   ]
  },
  {
   "cell_type": "markdown",
   "id": "9ae922a6",
   "metadata": {},
   "source": [
    "### insert at specified position"
   ]
  },
  {
   "cell_type": "code",
   "execution_count": 66,
   "id": "21d37750",
   "metadata": {},
   "outputs": [
    {
     "data": {
      "text/plain": [
       "['IT', 'CSE', 'MECH', 'MECHON', 'IT', 'ECE', 'ECE']"
      ]
     },
     "execution_count": 66,
     "metadata": {},
     "output_type": "execute_result"
    }
   ],
   "source": [
    "dept=[\"IT\",\"CSE\",\"MECH\",\"IT\",\"ECE\",\"ECE\"]\n",
    "dept.insert(3,\"MECHON\")\n",
    "dept"
   ]
  },
  {
   "cell_type": "markdown",
   "id": "ad933d73",
   "metadata": {},
   "source": [
    "### remove"
   ]
  },
  {
   "cell_type": "code",
   "execution_count": 68,
   "id": "2f2a11d1",
   "metadata": {},
   "outputs": [
    {
     "data": {
      "text/plain": [
       "['IT', 'CSE', 'MECH', 'IT', 'ECE', 'ECE']"
      ]
     },
     "execution_count": 68,
     "metadata": {},
     "output_type": "execute_result"
    }
   ],
   "source": [
    "dept.pop(3)\n",
    "dept"
   ]
  },
  {
   "cell_type": "markdown",
   "id": "b27bb73e",
   "metadata": {},
   "source": [
    "### reverse"
   ]
  },
  {
   "cell_type": "code",
   "execution_count": 70,
   "id": "2b560d27",
   "metadata": {},
   "outputs": [
    {
     "data": {
      "text/plain": [
       "['ECE', 'ECE', 'IT', 'MECH', 'CSE', 'IT']"
      ]
     },
     "execution_count": 70,
     "metadata": {},
     "output_type": "execute_result"
    }
   ],
   "source": [
    "dept.reverse()\n",
    "dept"
   ]
  },
  {
   "cell_type": "markdown",
   "id": "dc74ed19",
   "metadata": {},
   "source": [
    "# TUPLES"
   ]
  },
  {
   "cell_type": "markdown",
   "id": "b45ec9de",
   "metadata": {},
   "source": [
    "### it is immutable"
   ]
  },
  {
   "cell_type": "code",
   "execution_count": 74,
   "id": "d232a210",
   "metadata": {},
   "outputs": [
    {
     "name": "stdout",
     "output_type": "stream",
     "text": [
      "(45, 12, 69)\n"
     ]
    },
    {
     "data": {
      "text/plain": [
       "tuple"
      ]
     },
     "execution_count": 74,
     "metadata": {},
     "output_type": "execute_result"
    }
   ],
   "source": [
    "age=45,12,69\n",
    "print(age)\n",
    "type(age)"
   ]
  },
  {
   "cell_type": "markdown",
   "id": "c3398579",
   "metadata": {},
   "source": [
    "### it has no sort "
   ]
  },
  {
   "cell_type": "markdown",
   "id": "d07fdc6f",
   "metadata": {},
   "source": [
    "### sorted"
   ]
  },
  {
   "cell_type": "code",
   "execution_count": 77,
   "id": "5f2cff59",
   "metadata": {},
   "outputs": [
    {
     "data": {
      "text/plain": [
       "[12, 45, 69]"
      ]
     },
     "execution_count": 77,
     "metadata": {},
     "output_type": "execute_result"
    }
   ],
   "source": [
    "sorted(age)"
   ]
  },
  {
   "cell_type": "code",
   "execution_count": 78,
   "id": "77da1c94",
   "metadata": {},
   "outputs": [
    {
     "name": "stdout",
     "output_type": "stream",
     "text": [
      "(45, 12, 69, 45, 12, 69)\n"
     ]
    }
   ],
   "source": [
    "age2=age*2\n",
    "print(age2)"
   ]
  },
  {
   "cell_type": "markdown",
   "id": "917b3b25",
   "metadata": {},
   "source": [
    "### concate"
   ]
  },
  {
   "cell_type": "code",
   "execution_count": 81,
   "id": "77013a74",
   "metadata": {},
   "outputs": [
    {
     "data": {
      "text/plain": [
       "(45, 12, 69, 45, 12, 69, 45, 12, 69)"
      ]
     },
     "execution_count": 81,
     "metadata": {},
     "output_type": "execute_result"
    }
   ],
   "source": [
    "age3=age+age2\n",
    "age3"
   ]
  },
  {
   "cell_type": "markdown",
   "id": "099eda65",
   "metadata": {},
   "source": [
    "### membership "
   ]
  },
  {
   "cell_type": "code",
   "execution_count": 83,
   "id": "8690e858",
   "metadata": {},
   "outputs": [
    {
     "name": "stdout",
     "output_type": "stream",
     "text": [
      "False\n"
     ]
    }
   ],
   "source": [
    "print(46 in age)"
   ]
  },
  {
   "cell_type": "code",
   "execution_count": 84,
   "id": "000beca4",
   "metadata": {},
   "outputs": [
    {
     "name": "stdout",
     "output_type": "stream",
     "text": [
      "True\n"
     ]
    }
   ],
   "source": [
    "print(46 not in age)"
   ]
  },
  {
   "cell_type": "markdown",
   "id": "5dda0338",
   "metadata": {},
   "source": [
    "### for"
   ]
  },
  {
   "cell_type": "code",
   "execution_count": 87,
   "id": "c0c91a35",
   "metadata": {},
   "outputs": [
    {
     "name": "stdout",
     "output_type": "stream",
     "text": [
      "45\n",
      "12\n",
      "69\n"
     ]
    }
   ],
   "source": [
    "for ages in age:\n",
    "    print(ages)"
   ]
  },
  {
   "cell_type": "markdown",
   "id": "3a17d807",
   "metadata": {},
   "source": [
    "age=(45,12,69,65,67,25)\n",
    "len(age)"
   ]
  },
  {
   "cell_type": "markdown",
   "id": "78570e60",
   "metadata": {},
   "source": [
    "### length"
   ]
  },
  {
   "cell_type": "code",
   "execution_count": 91,
   "id": "494e1201",
   "metadata": {},
   "outputs": [
    {
     "data": {
      "text/plain": [
       "6"
      ]
     },
     "execution_count": 91,
     "metadata": {},
     "output_type": "execute_result"
    }
   ],
   "source": [
    "age=(45,6,12,45,25,63)\n",
    "len(age)"
   ]
  },
  {
   "cell_type": "markdown",
   "id": "33ffb060",
   "metadata": {},
   "source": [
    "### max n min"
   ]
  },
  {
   "cell_type": "code",
   "execution_count": 94,
   "id": "3179ae40",
   "metadata": {},
   "outputs": [
    {
     "data": {
      "text/plain": [
       "63"
      ]
     },
     "execution_count": 94,
     "metadata": {},
     "output_type": "execute_result"
    }
   ],
   "source": [
    "max(age)"
   ]
  },
  {
   "cell_type": "code",
   "execution_count": 95,
   "id": "9b60f62b",
   "metadata": {},
   "outputs": [
    {
     "data": {
      "text/plain": [
       "6"
      ]
     },
     "execution_count": 95,
     "metadata": {},
     "output_type": "execute_result"
    }
   ],
   "source": [
    "min(age)"
   ]
  },
  {
   "cell_type": "code",
   "execution_count": 96,
   "id": "61609faf",
   "metadata": {},
   "outputs": [
    {
     "ename": "TypeError",
     "evalue": "'>' not supported between instances of 'str' and 'int'",
     "output_type": "error",
     "traceback": [
      "\u001b[1;31m---------------------------------------------------------------------------\u001b[0m",
      "\u001b[1;31mTypeError\u001b[0m                                 Traceback (most recent call last)",
      "\u001b[1;32m<ipython-input-96-66dfdc460542>\u001b[0m in \u001b[0;36m<module>\u001b[1;34m\u001b[0m\n\u001b[0;32m      1\u001b[0m \u001b[0mcol\u001b[0m\u001b[1;33m=\u001b[0m\u001b[1;36m5\u001b[0m\u001b[1;33m,\u001b[0m\u001b[1;36m35\u001b[0m\u001b[1;33m,\u001b[0m\u001b[1;34m'roshan'\u001b[0m\u001b[1;33m,\u001b[0m\u001b[1;36m35\u001b[0m\u001b[1;33m\u001b[0m\u001b[1;33m\u001b[0m\u001b[0m\n\u001b[1;32m----> 2\u001b[1;33m \u001b[0mmax\u001b[0m\u001b[1;33m(\u001b[0m\u001b[0mcol\u001b[0m\u001b[1;33m)\u001b[0m\u001b[1;33m\u001b[0m\u001b[1;33m\u001b[0m\u001b[0m\n\u001b[0m",
      "\u001b[1;31mTypeError\u001b[0m: '>' not supported between instances of 'str' and 'int'"
     ]
    }
   ],
   "source": [
    "col=5,35,'roshan',35\n",
    "max(col)\n",
    "#couldn't able to find max value because it contains different data types"
   ]
  },
  {
   "cell_type": "markdown",
   "id": "4f40e1a4",
   "metadata": {},
   "source": [
    "### tuple will not support object deletion"
   ]
  },
  {
   "cell_type": "code",
   "execution_count": 98,
   "id": "7443a081",
   "metadata": {},
   "outputs": [
    {
     "ename": "SyntaxError",
     "evalue": "cannot delete function call (<ipython-input-98-9f0929f03931>, line 2)",
     "output_type": "error",
     "traceback": [
      "\u001b[1;36m  File \u001b[1;32m\"<ipython-input-98-9f0929f03931>\"\u001b[1;36m, line \u001b[1;32m2\u001b[0m\n\u001b[1;33m    del col(4)\u001b[0m\n\u001b[1;37m        ^\u001b[0m\n\u001b[1;31mSyntaxError\u001b[0m\u001b[1;31m:\u001b[0m cannot delete function call\n"
     ]
    }
   ],
   "source": [
    "col=5,35,'roshan',35\n",
    "del col(4)\n",
    "#can't delete in tuple"
   ]
  },
  {
   "cell_type": "markdown",
   "id": "aaa33c0d",
   "metadata": {},
   "source": [
    "### list inside a tuple"
   ]
  },
  {
   "cell_type": "code",
   "execution_count": 103,
   "id": "06cd1bfb",
   "metadata": {},
   "outputs": [
    {
     "data": {
      "text/plain": [
       "(5, 35, 'roshan', 35, [25, 6, 'rem', 'res'])"
      ]
     },
     "execution_count": 103,
     "metadata": {},
     "output_type": "execute_result"
    }
   ],
   "source": [
    "col=(5,35,'roshan',35,[25,6,'rem'])\n",
    "col[4].append('res')  \n",
    "col"
   ]
  },
  {
   "cell_type": "markdown",
   "id": "36635744",
   "metadata": {},
   "source": [
    "### indexing and slicing"
   ]
  },
  {
   "cell_type": "code",
   "execution_count": 106,
   "id": "0360f8d6",
   "metadata": {},
   "outputs": [
    {
     "data": {
      "text/plain": [
       "(5, 35, 'roshan')"
      ]
     },
     "execution_count": 106,
     "metadata": {},
     "output_type": "execute_result"
    }
   ],
   "source": [
    "col=(5,35,'roshan',35,[25,6,'rem'])\n",
    "col[0:3]"
   ]
  },
  {
   "cell_type": "code",
   "execution_count": 110,
   "id": "08b43f7d",
   "metadata": {},
   "outputs": [
    {
     "data": {
      "text/plain": [
       "('roshan', 35)"
      ]
     },
     "execution_count": 110,
     "metadata": {},
     "output_type": "execute_result"
    }
   ],
   "source": [
    "col=(5,35,'roshan',35,[25,6,'rem'])\n",
    "col[2:4]"
   ]
  },
  {
   "cell_type": "markdown",
   "id": "c6493bf9",
   "metadata": {},
   "source": [
    "# DICTIONARY"
   ]
  },
  {
   "cell_type": "markdown",
   "id": "c5850d49",
   "metadata": {},
   "source": [
    "### creating dict"
   ]
  },
  {
   "cell_type": "code",
   "execution_count": 113,
   "id": "44d99c40",
   "metadata": {},
   "outputs": [
    {
     "name": "stdout",
     "output_type": "stream",
     "text": [
      "{'IT': 50, 'CSE': 6, 'MECH': 96}\n"
     ]
    },
    {
     "data": {
      "text/plain": [
       "dict"
      ]
     },
     "execution_count": 113,
     "metadata": {},
     "output_type": "execute_result"
    }
   ],
   "source": [
    "clg={\"IT\":50,\n",
    "     \"CSE\":6,\n",
    "     \"MECH\":96}\n",
    "print(clg)\n",
    "type(clg)"
   ]
  },
  {
   "cell_type": "markdown",
   "id": "37badc95",
   "metadata": {},
   "source": [
    "### add an element"
   ]
  },
  {
   "cell_type": "code",
   "execution_count": 116,
   "id": "66dcd8df",
   "metadata": {},
   "outputs": [
    {
     "name": "stdout",
     "output_type": "stream",
     "text": [
      "{'IT': 50, 'CSE': 6, 'MECH': 96, 'MECHON': 63}\n"
     ]
    }
   ],
   "source": [
    "clg={\"IT\":50,\n",
    "     \"CSE\":6,\n",
    "     \"MECH\":96}\n",
    "clg[\"MECHON\"]=63\n",
    "print(clg)"
   ]
  },
  {
   "cell_type": "markdown",
   "id": "41d15f66",
   "metadata": {},
   "source": [
    "### remove an element"
   ]
  },
  {
   "cell_type": "code",
   "execution_count": 119,
   "id": "518f2a57",
   "metadata": {},
   "outputs": [
    {
     "name": "stdout",
     "output_type": "stream",
     "text": [
      "{'IT': 50, 'MECH': 96, 'MECHON': 63}\n"
     ]
    }
   ],
   "source": [
    "clg={'IT': 50, 'CSE': 6, 'MECH': 96, 'MECHON': 63}\n",
    "del clg[\"CSE\"]\n",
    "print(clg)"
   ]
  },
  {
   "cell_type": "markdown",
   "id": "d889b8c9",
   "metadata": {},
   "source": [
    "### word count "
   ]
  },
  {
   "cell_type": "code",
   "execution_count": 121,
   "id": "e0275605",
   "metadata": {},
   "outputs": [
    {
     "name": "stdout",
     "output_type": "stream",
     "text": [
      "{'link': 2, 'pink': 2, 'sink': 3, 'pinker': 1}\n"
     ]
    }
   ],
   "source": [
    "det = \"link pink sink link sink pink pinker sink\"\n",
    "word_count={}\n",
    "for word in det.split():\n",
    "    if word not in word_count:\n",
    "         word_count[word]=1\n",
    "    else:\n",
    "         word_count[word] +=1\n",
    "print(word_count)            \n",
    "        "
   ]
  },
  {
   "cell_type": "code",
   "execution_count": 122,
   "id": "c9205d5a",
   "metadata": {},
   "outputs": [
    {
     "ename": "KeyError",
     "evalue": "'link'",
     "output_type": "error",
     "traceback": [
      "\u001b[1;31m---------------------------------------------------------------------------\u001b[0m",
      "\u001b[1;31mKeyError\u001b[0m                                  Traceback (most recent call last)",
      "\u001b[1;32m<ipython-input-122-e1a8df5a176a>\u001b[0m in \u001b[0;36m<module>\u001b[1;34m\u001b[0m\n\u001b[0;32m      2\u001b[0m \u001b[0mword_count\u001b[0m\u001b[1;33m=\u001b[0m\u001b[1;33m{\u001b[0m\u001b[1;33m}\u001b[0m\u001b[1;33m\u001b[0m\u001b[1;33m\u001b[0m\u001b[0m\n\u001b[0;32m      3\u001b[0m \u001b[1;32mfor\u001b[0m \u001b[0mword\u001b[0m \u001b[1;32min\u001b[0m \u001b[0mdet\u001b[0m\u001b[1;33m.\u001b[0m\u001b[0msplit\u001b[0m\u001b[1;33m(\u001b[0m\u001b[1;33m)\u001b[0m\u001b[1;33m:\u001b[0m\u001b[1;33m\u001b[0m\u001b[1;33m\u001b[0m\u001b[0m\n\u001b[1;32m----> 4\u001b[1;33m          \u001b[0mword_count\u001b[0m\u001b[1;33m[\u001b[0m\u001b[0mword\u001b[0m\u001b[1;33m]\u001b[0m \u001b[1;33m+=\u001b[0m\u001b[1;36m1\u001b[0m\u001b[1;33m\u001b[0m\u001b[1;33m\u001b[0m\u001b[0m\n\u001b[0m\u001b[0;32m      5\u001b[0m \u001b[0mprint\u001b[0m\u001b[1;33m(\u001b[0m\u001b[0mword_count\u001b[0m\u001b[1;33m)\u001b[0m\u001b[1;33m\u001b[0m\u001b[1;33m\u001b[0m\u001b[0m\n\u001b[0;32m      6\u001b[0m \u001b[1;33m\u001b[0m\u001b[0m\n",
      "\u001b[1;31mKeyError\u001b[0m: 'link'"
     ]
    }
   ],
   "source": [
    "det = \"link pink sink link sink pink pinker sink\"\n",
    "word_count={}\n",
    "for word in det.split():\n",
    "         word_count[word] +=1\n",
    "print(word_count)            \n",
    "        "
   ]
  },
  {
   "cell_type": "markdown",
   "id": "edb73511",
   "metadata": {},
   "source": [
    "### (the above code throws an error because the key is not initialized and we are trying to add 1 to an the unlimited key's value)"
   ]
  },
  {
   "cell_type": "markdown",
   "id": "786f1393",
   "metadata": {},
   "source": [
    "### default dictionary"
   ]
  },
  {
   "cell_type": "code",
   "execution_count": 125,
   "id": "9ecbc656",
   "metadata": {},
   "outputs": [
    {
     "name": "stdout",
     "output_type": "stream",
     "text": [
      "defaultdict(<class 'int'>, {'link': 2, 'pink': 2, 'sink': 3, 'pinker': 1})\n"
     ]
    }
   ],
   "source": [
    "from collections import defaultdict\n",
    "det = \"link pink sink link sink pink pinker sink\"\n",
    "word_count=defaultdict(int)\n",
    "for word in det.split():\n",
    "         word_count[word] +=1\n",
    "print(word_count) \n",
    "\n",
    "\n"
   ]
  },
  {
   "cell_type": "markdown",
   "id": "2cc1f95c",
   "metadata": {},
   "source": [
    "### Looping through the dictionary"
   ]
  },
  {
   "cell_type": "code",
   "execution_count": 128,
   "id": "758cda16",
   "metadata": {},
   "outputs": [
    {
     "name": "stdout",
     "output_type": "stream",
     "text": [
      "link 2\n",
      "pink 2\n",
      "sink 3\n",
      "pinker 1\n"
     ]
    }
   ],
   "source": [
    "from collections import defaultdict\n",
    "det = \"link pink sink link sink pink pinker sink\"\n",
    "word_count=defaultdict(int)\n",
    "for word in det.split():\n",
    "         word_count[word] +=1\n",
    "for key, value in word_count.items():\n",
    "    print(key,value)"
   ]
  },
  {
   "cell_type": "markdown",
   "id": "bbdf9bc6",
   "metadata": {},
   "source": [
    "### Operation"
   ]
  },
  {
   "cell_type": "code",
   "execution_count": 130,
   "id": "3751648d",
   "metadata": {},
   "outputs": [
    {
     "data": {
      "text/plain": [
       "4"
      ]
     },
     "execution_count": 130,
     "metadata": {},
     "output_type": "execute_result"
    }
   ],
   "source": [
    "clg={'IT': 50, 'CSE': 6, 'MECH': 96, 'MECHON': 63}\n",
    "len(clg)#length of the dict"
   ]
  },
  {
   "cell_type": "code",
   "execution_count": 131,
   "id": "0b6027b2",
   "metadata": {},
   "outputs": [
    {
     "data": {
      "text/plain": [
       "{}"
      ]
     },
     "execution_count": 131,
     "metadata": {},
     "output_type": "execute_result"
    }
   ],
   "source": [
    "clg.clear()\n",
    "clg #clear a dict"
   ]
  },
  {
   "cell_type": "code",
   "execution_count": 132,
   "id": "336216cd",
   "metadata": {},
   "outputs": [
    {
     "data": {
      "text/plain": [
       "{'IT': 50, 'CSE': 6, 'MECH': 96, 'MECHON': 63}"
      ]
     },
     "execution_count": 132,
     "metadata": {},
     "output_type": "execute_result"
    }
   ],
   "source": [
    "clg1={'IT': 50, 'CSE': 6, 'MECH': 96, 'MECHON': 63}\n",
    "clg2=clg1.copy()\n",
    "clg2#copy a dict"
   ]
  },
  {
   "cell_type": "code",
   "execution_count": 133,
   "id": "eaeba8df",
   "metadata": {},
   "outputs": [
    {
     "data": {
      "text/plain": [
       "dict_keys(['IT', 'CSE', 'MECH', 'MECHON'])"
      ]
     },
     "execution_count": 133,
     "metadata": {},
     "output_type": "execute_result"
    }
   ],
   "source": [
    "clg={'IT': 50, 'CSE': 6, 'MECH': 96, 'MECHON': 63}\n",
    "clg.keys()#to display only the keys"
   ]
  },
  {
   "cell_type": "code",
   "execution_count": 135,
   "id": "fc4f2629",
   "metadata": {},
   "outputs": [
    {
     "data": {
      "text/plain": [
       "dict_values([50, 6, 96, 63])"
      ]
     },
     "execution_count": 135,
     "metadata": {},
     "output_type": "execute_result"
    }
   ],
   "source": [
    "clg={'IT': 50, 'CSE': 6, 'MECH': 96, 'MECHON': 63}\n",
    "clg.values()#to display only the values"
   ]
  },
  {
   "cell_type": "code",
   "execution_count": 136,
   "id": "18ddc427",
   "metadata": {},
   "outputs": [
    {
     "data": {
      "text/plain": [
       "dict_items([('IT', 50), ('CSE', 6), ('MECH', 96), ('MECHON', 63)])"
      ]
     },
     "execution_count": 136,
     "metadata": {},
     "output_type": "execute_result"
    }
   ],
   "source": [
    "clg.items()"
   ]
  },
  {
   "cell_type": "markdown",
   "id": "86e85ef9",
   "metadata": {},
   "source": [
    "### RETRIEVE"
   ]
  },
  {
   "cell_type": "code",
   "execution_count": 138,
   "id": "a78f9685",
   "metadata": {},
   "outputs": [
    {
     "name": "stdout",
     "output_type": "stream",
     "text": [
      "num of students: 50\n"
     ]
    }
   ],
   "source": [
    "print(\"num of students:\",clg.get(\"IT\"))"
   ]
  },
  {
   "cell_type": "code",
   "execution_count": 141,
   "id": "0b5c1065",
   "metadata": {},
   "outputs": [
    {
     "name": "stdout",
     "output_type": "stream",
     "text": [
      "num of students: None\n"
     ]
    }
   ],
   "source": [
    "print(\"num of students:\",clg.get(\"EEE\"))"
   ]
  },
  {
   "cell_type": "markdown",
   "id": "bf060e26",
   "metadata": {},
   "source": [
    "### set defaut"
   ]
  },
  {
   "cell_type": "code",
   "execution_count": 143,
   "id": "d97b5f36",
   "metadata": {},
   "outputs": [
    {
     "data": {
      "text/plain": [
       "{'IT': 50, 'CSE': 6, 'MECH': 96, 'MECHON': 63, 'EEE': 63}"
      ]
     },
     "execution_count": 143,
     "metadata": {},
     "output_type": "execute_result"
    }
   ],
   "source": [
    "clg.setdefault(\"EEE\",63)\n",
    "clg"
   ]
  },
  {
   "cell_type": "markdown",
   "id": "ae8b2287",
   "metadata": {},
   "source": [
    "### using tuple"
   ]
  },
  {
   "cell_type": "code",
   "execution_count": 146,
   "id": "857f595e",
   "metadata": {},
   "outputs": [
    {
     "name": "stdout",
     "output_type": "stream",
     "text": [
      "dictionary: {'kim': None, 'jeon': None, 'park': None}\n",
      "updated dictionary: {'kim': 7, 'jeon': 7, 'park': 7}\n"
     ]
    }
   ],
   "source": [
    "tup=(\"kim\",\"jeon\",\"park\")\n",
    "dicta=dict.fromkeys(tup)\n",
    "print(\"dictionary:\",dicta)\n",
    "dictb=dict.fromkeys(tup,7)\n",
    "print(\"updated dictionary:\",dictb)"
   ]
  },
  {
   "cell_type": "markdown",
   "id": "ffbba503",
   "metadata": {},
   "source": [
    "### updating the dict"
   ]
  },
  {
   "cell_type": "code",
   "execution_count": 149,
   "id": "64ec0308",
   "metadata": {},
   "outputs": [
    {
     "name": "stdout",
     "output_type": "stream",
     "text": [
      "dept: {'IT': 60, 'CSE': 6, 'MECH': 96, 'MECHON': 63, 'EEE': 63}\n"
     ]
    }
   ],
   "source": [
    "dept={'IT': 50, 'CSE': 6, 'MECH': 96, 'MECHON': 63, 'EEE': 63}\n",
    "dept[\"IT\"]=60\n",
    "print(\"dept:\",dept)"
   ]
  },
  {
   "cell_type": "code",
   "execution_count": 151,
   "id": "4f8b494c",
   "metadata": {},
   "outputs": [
    {
     "name": "stdout",
     "output_type": "stream",
     "text": [
      "dept: {'IT': 60, 'CSE': 6, 'MECH': 96, 'EEE': 63}\n"
     ]
    }
   ],
   "source": [
    "del dept[\"MECHON\"]\n",
    "print(\"dept:\",dept)\n"
   ]
  },
  {
   "cell_type": "markdown",
   "id": "66ea3da4",
   "metadata": {},
   "source": [
    "### with duplicate values"
   ]
  },
  {
   "cell_type": "code",
   "execution_count": 154,
   "id": "d30e8cf2",
   "metadata": {},
   "outputs": [
    {
     "name": "stdout",
     "output_type": "stream",
     "text": [
      "{'IT': 45, 'CSE': 6, 'MECH': 96, 'MECHON': 63, 'EEE': 63}\n"
     ]
    }
   ],
   "source": [
    "dept={'IT': 50,\"IT\":45, 'CSE': 6, 'MECH': 96, 'MECHON': 63, 'EEE': 63}\n",
    "print(dept)"
   ]
  },
  {
   "cell_type": "markdown",
   "id": "42d79bba",
   "metadata": {},
   "source": [
    "### ZIP"
   ]
  },
  {
   "cell_type": "code",
   "execution_count": 157,
   "id": "ffdbf0f4",
   "metadata": {},
   "outputs": [
    {
     "name": "stdout",
     "output_type": "stream",
     "text": [
      "{'IT': 1, 'CSE': 2, 'EEE': 3}\n"
     ]
    }
   ],
   "source": [
    "dept=[\"IT\",\"CSE\",\"EEE\"]\n",
    "num=[1,2,3]\n",
    "dict1=dict(zip(dept,num))\n",
    "print(dict1)"
   ]
  },
  {
   "cell_type": "code",
   "execution_count": null,
   "id": "1a27ce26",
   "metadata": {},
   "outputs": [],
   "source": []
  }
 ],
 "metadata": {
  "kernelspec": {
   "display_name": "Python 3",
   "language": "python",
   "name": "python3"
  },
  "language_info": {
   "codemirror_mode": {
    "name": "ipython",
    "version": 3
   },
   "file_extension": ".py",
   "mimetype": "text/x-python",
   "name": "python",
   "nbconvert_exporter": "python",
   "pygments_lexer": "ipython3",
   "version": "3.8.8"
  }
 },
 "nbformat": 4,
 "nbformat_minor": 5
}
