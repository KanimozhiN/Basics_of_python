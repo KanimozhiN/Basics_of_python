{
 "cells": [
  {
   "cell_type": "markdown",
   "id": "53305396",
   "metadata": {},
   "source": [
    "## Conditional statement "
   ]
  },
  {
   "cell_type": "markdown",
   "id": "1726e68d",
   "metadata": {},
   "source": [
    "### if else statement"
   ]
  },
  {
   "cell_type": "code",
   "execution_count": 3,
   "id": "00ac30e8",
   "metadata": {},
   "outputs": [
    {
     "name": "stdout",
     "output_type": "stream",
     "text": [
      "10 is smaller\n"
     ]
    }
   ],
   "source": [
    "n=10\n",
    "if(n>16):\n",
    "    print(n,\"is greater\")\n",
    "else:    \n",
    "    print(n,\"is smaller\")\n",
    "    "
   ]
  },
  {
   "cell_type": "markdown",
   "id": "611a3396",
   "metadata": {},
   "source": [
    "### if statement"
   ]
  },
  {
   "cell_type": "code",
   "execution_count": 6,
   "id": "d5256ea7",
   "metadata": {},
   "outputs": [
    {
     "name": "stdout",
     "output_type": "stream",
     "text": [
      "10 is greater\n"
     ]
    }
   ],
   "source": [
    "if(n>2):\n",
    "    print(n,\"is greater\")\n",
    "    "
   ]
  },
  {
   "cell_type": "markdown",
   "id": "4482bb3c",
   "metadata": {},
   "source": [
    "### if elif else statement"
   ]
  },
  {
   "cell_type": "code",
   "execution_count": 8,
   "id": "d2a1a1f2",
   "metadata": {},
   "outputs": [
    {
     "name": "stdout",
     "output_type": "stream",
     "text": [
      "10 is greater\n"
     ]
    }
   ],
   "source": [
    "if(n>5):\n",
    "    print(n,\"is greater\")\n",
    "elif(n==10):\n",
    "    print(n,\"is same\")\n",
    "else:\n",
    "    print(n,\"is small\")\n",
    "    "
   ]
  },
  {
   "cell_type": "markdown",
   "id": "b8918973",
   "metadata": {},
   "source": [
    "### nested if else statement"
   ]
  },
  {
   "cell_type": "code",
   "execution_count": 10,
   "id": "2f666bd8",
   "metadata": {},
   "outputs": [
    {
     "name": "stdout",
     "output_type": "stream",
     "text": [
      "10 is greater\n"
     ]
    }
   ],
   "source": [
    "n1=10\n",
    "n2=4\n",
    "n3=7\n",
    "if(n1>n2):\n",
    "    print(n1,\"is greater\")\n",
    "else:\n",
    "    if(n3>n2):\n",
    "         print(n3,\"is greater\")\n",
    "    else:\n",
    "         print(n2,\"is greater\")"
   ]
  },
  {
   "cell_type": "code",
   "execution_count": null,
   "id": "94e6938a",
   "metadata": {},
   "outputs": [],
   "source": []
  }
 ],
 "metadata": {
  "kernelspec": {
   "display_name": "Python 3",
   "language": "python",
   "name": "python3"
  },
  "language_info": {
   "codemirror_mode": {
    "name": "ipython",
    "version": 3
   },
   "file_extension": ".py",
   "mimetype": "text/x-python",
   "name": "python",
   "nbconvert_exporter": "python",
   "pygments_lexer": "ipython3",
   "version": "3.8.8"
  }
 },
 "nbformat": 4,
 "nbformat_minor": 5
}
