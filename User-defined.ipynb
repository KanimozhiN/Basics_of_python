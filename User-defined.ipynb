{
 "cells": [
  {
   "cell_type": "markdown",
   "id": "be350839",
   "metadata": {},
   "source": [
    "# user defined functions"
   ]
  },
  {
   "cell_type": "markdown",
   "id": "a7c3b447",
   "metadata": {},
   "source": [
    "### Built-in function-print(),input(),min().max()etc."
   ]
  },
  {
   "cell_type": "code",
   "execution_count": 3,
   "id": "bff82e5b",
   "metadata": {},
   "outputs": [
    {
     "name": "stdout",
     "output_type": "stream",
     "text": [
      "Don't feel low, go  with a flow\n"
     ]
    }
   ],
   "source": [
    "def quotes():\n",
    "    print(\"Don't feel low, go  with a flow\")\n",
    "quotes()    "
   ]
  },
  {
   "cell_type": "markdown",
   "id": "0af25ae9",
   "metadata": {},
   "source": [
    "### with a parameter"
   ]
  },
  {
   "cell_type": "code",
   "execution_count": 6,
   "id": "128859d0",
   "metadata": {},
   "outputs": [
    {
     "name": "stdout",
     "output_type": "stream",
     "text": [
      "enter name:kanimozhi\n",
      "Don't feel low, go  with a flow- kanimozhi\n"
     ]
    }
   ],
   "source": [
    "def quotes(by):\n",
    "    print(\"Don't feel low, go  with a flow-\",by)\n",
    "person_name=input(\"enter name:\")\n",
    "quotes(person_name)"
   ]
  },
  {
   "cell_type": "code",
   "execution_count": 8,
   "id": "23baa049",
   "metadata": {},
   "outputs": [
    {
     "ename": "NameError",
     "evalue": "name 'greet' is not defined",
     "output_type": "error",
     "traceback": [
      "\u001b[1;31m---------------------------------------------------------------------------\u001b[0m",
      "\u001b[1;31mNameError\u001b[0m                                 Traceback (most recent call last)",
      "\u001b[1;32m<ipython-input-8-f4e252e3f0b7>\u001b[0m in \u001b[0;36m<module>\u001b[1;34m\u001b[0m\n\u001b[0;32m      1\u001b[0m \u001b[0mname\u001b[0m\u001b[1;33m=\u001b[0m\u001b[1;34m\"dylan wang\"\u001b[0m\u001b[1;33m\u001b[0m\u001b[1;33m\u001b[0m\u001b[0m\n\u001b[1;32m----> 2\u001b[1;33m \u001b[0mgreet\u001b[0m\u001b[1;33m(\u001b[0m\u001b[1;33m)\u001b[0m\u001b[1;33m\u001b[0m\u001b[1;33m\u001b[0m\u001b[0m\n\u001b[0m",
      "\u001b[1;31mNameError\u001b[0m: name 'greet' is not defined"
     ]
    }
   ],
   "source": [
    "name=\"dylan wang\"\n",
    "greet()\n",
    "# greet isn't defined"
   ]
  },
  {
   "cell_type": "code",
   "execution_count": 12,
   "id": "a674bd79",
   "metadata": {},
   "outputs": [
    {
     "name": "stdout",
     "output_type": "stream",
     "text": [
      "365218\n"
     ]
    }
   ],
   "source": [
    "def add(n1,n2):\n",
    "    add=n1+n2\n",
    "    return(add)\n",
    "sum=add(6564,358654)\n",
    "print(sum)"
   ]
  },
  {
   "cell_type": "code",
   "execution_count": 14,
   "id": "9b4c0da5",
   "metadata": {},
   "outputs": [
    {
     "name": "stdout",
     "output_type": "stream",
     "text": [
      "None\n"
     ]
    }
   ],
   "source": [
    "def add(n1,n2):\n",
    "    add=n1+n2\n",
    "    return\n",
    "sum=add(6564,358654)\n",
    "print(sum)\n",
    "#it might execute but won't show expected output because the return have no value"
   ]
  }
 ],
 "metadata": {
  "kernelspec": {
   "display_name": "Python 3",
   "language": "python",
   "name": "python3"
  },
  "language_info": {
   "codemirror_mode": {
    "name": "ipython",
    "version": 3
   },
   "file_extension": ".py",
   "mimetype": "text/x-python",
   "name": "python",
   "nbconvert_exporter": "python",
   "pygments_lexer": "ipython3",
   "version": "3.8.8"
  }
 },
 "nbformat": 4,
 "nbformat_minor": 5
}
