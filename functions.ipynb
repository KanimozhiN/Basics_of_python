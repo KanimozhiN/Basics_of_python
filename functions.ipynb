{
 "cells": [
  {
   "cell_type": "markdown",
   "id": "a4d9b7c4",
   "metadata": {},
   "source": [
    "# A function is a block of reusable code that runs when called"
   ]
  },
  {
   "cell_type": "code",
   "execution_count": 1,
   "id": "2fd6db15",
   "metadata": {},
   "outputs": [
    {
     "name": "stdout",
     "output_type": "stream",
     "text": [
      "python pgm\n"
     ]
    }
   ],
   "source": [
    "print(\"python pgm\")"
   ]
  },
  {
   "cell_type": "code",
   "execution_count": 3,
   "id": "f782759b",
   "metadata": {},
   "outputs": [
    {
     "name": "stdout",
     "output_type": "stream",
     "text": [
      "('kitkat', 'dark choci', 'milkybar')\n"
     ]
    }
   ],
   "source": [
    "choco=(\"kitkat\",\"dark choci\",\"milkybar\")\n",
    "print(choco)"
   ]
  },
  {
   "cell_type": "code",
   "execution_count": 4,
   "id": "c01ec39f",
   "metadata": {},
   "outputs": [
    {
     "name": "stdout",
     "output_type": "stream",
     "text": [
      "7.8\n"
     ]
    }
   ],
   "source": [
    "print(7.8)"
   ]
  },
  {
   "cell_type": "code",
   "execution_count": 9,
   "id": "6ea40071",
   "metadata": {},
   "outputs": [
    {
     "name": "stdout",
     "output_type": "stream",
     "text": [
      "i am curious to learn data science$python\n"
     ]
    }
   ],
   "source": [
    "print(\"i am curious to learn data science\",\"python\",sep=\"$\")"
   ]
  },
  {
   "cell_type": "code",
   "execution_count": 10,
   "id": "182828eb",
   "metadata": {},
   "outputs": [
    {
     "name": "stdout",
     "output_type": "stream",
     "text": [
      "good\n",
      "\n",
      "\n",
      "day\n"
     ]
    }
   ],
   "source": [
    "print(\"good\")\n",
    "print(\"\\n\")\n",
    "print(\"day\")"
   ]
  },
  {
   "cell_type": "code",
   "execution_count": 11,
   "id": "563f009b",
   "metadata": {},
   "outputs": [
    {
     "name": "stdout",
     "output_type": "stream",
     "text": [
      "good\n",
      "\t\n",
      "day\n"
     ]
    }
   ],
   "source": [
    "print(\"good\")\n",
    "print(\"\\t\")\n",
    "print(\"day\")"
   ]
  },
  {
   "cell_type": "markdown",
   "id": "19f41f50",
   "metadata": {},
   "source": [
    "### using back slash"
   ]
  },
  {
   "cell_type": "code",
   "execution_count": 11,
   "id": "3c503840",
   "metadata": {},
   "outputs": [
    {
     "name": "stdout",
     "output_type": "stream",
     "text": [
      "this is akash\" s car\n"
     ]
    }
   ],
   "source": [
    "print(\"this is akash\\\" s car\")"
   ]
  },
  {
   "cell_type": "markdown",
   "id": "7da0f166",
   "metadata": {},
   "source": [
    "## Concatenation"
   ]
  },
  {
   "cell_type": "code",
   "execution_count": 2,
   "id": "e3fb8b62",
   "metadata": {},
   "outputs": [
    {
     "name": "stdout",
     "output_type": "stream",
     "text": [
      "i madeit\n"
     ]
    }
   ],
   "source": [
    "print(\"i made\"+ \"it\")"
   ]
  },
  {
   "cell_type": "code",
   "execution_count": 19,
   "id": "a460a6dd",
   "metadata": {},
   "outputs": [
    {
     "ename": "TypeError",
     "evalue": "can only concatenate str (not \"int\") to str",
     "output_type": "error",
     "traceback": [
      "\u001b[1;31m---------------------------------------------------------------------------\u001b[0m",
      "\u001b[1;31mTypeError\u001b[0m                                 Traceback (most recent call last)",
      "\u001b[1;32m<ipython-input-19-8bc7a2292812>\u001b[0m in \u001b[0;36m<module>\u001b[1;34m\u001b[0m\n\u001b[1;32m----> 1\u001b[1;33m \u001b[0mprint\u001b[0m\u001b[1;33m(\u001b[0m\u001b[1;34m\"i made it\"\u001b[0m\u001b[1;33m+\u001b[0m \u001b[1;36m2\u001b[0m\u001b[1;33m)\u001b[0m\u001b[1;33m\u001b[0m\u001b[1;33m\u001b[0m\u001b[0m\n\u001b[0m",
      "\u001b[1;31mTypeError\u001b[0m: can only concatenate str (not \"int\") to str"
     ]
    }
   ],
   "source": [
    "print(\"i made it\"+ 2)"
   ]
  },
  {
   "cell_type": "markdown",
   "id": "423c01f5",
   "metadata": {},
   "source": [
    "### explicit conversion and concatenation"
   ]
  },
  {
   "cell_type": "code",
   "execution_count": 20,
   "id": "11075d04",
   "metadata": {},
   "outputs": [
    {
     "name": "stdout",
     "output_type": "stream",
     "text": [
      "i made it2\n"
     ]
    }
   ],
   "source": [
    "print(\"i made it\"+ str(2))"
   ]
  },
  {
   "cell_type": "code",
   "execution_count": null,
   "id": "65438201",
   "metadata": {},
   "outputs": [],
   "source": []
  }
 ],
 "metadata": {
  "kernelspec": {
   "display_name": "Python 3",
   "language": "python",
   "name": "python3"
  },
  "language_info": {
   "codemirror_mode": {
    "name": "ipython",
    "version": 3
   },
   "file_extension": ".py",
   "mimetype": "text/x-python",
   "name": "python",
   "nbconvert_exporter": "python",
   "pygments_lexer": "ipython3",
   "version": "3.8.8"
  }
 },
 "nbformat": 4,
 "nbformat_minor": 5
}
